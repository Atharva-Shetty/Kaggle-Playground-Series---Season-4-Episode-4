{
 "cells": [
  {
   "cell_type": "code",
   "execution_count": 1,
   "id": "0e998ecc",
   "metadata": {
    "execution": {
     "iopub.execute_input": "2024-04-07T13:38:57.126928Z",
     "iopub.status.busy": "2024-04-07T13:38:57.126331Z",
     "iopub.status.idle": "2024-04-07T13:38:57.136128Z",
     "shell.execute_reply": "2024-04-07T13:38:57.135423Z"
    },
    "papermill": {
     "duration": 0.018272,
     "end_time": "2024-04-07T13:38:57.137940",
     "exception": false,
     "start_time": "2024-04-07T13:38:57.119668",
     "status": "completed"
    },
    "tags": []
   },
   "outputs": [],
   "source": [
    "import warnings\n",
    "warnings.filterwarnings(\"ignore\")"
   ]
  },
  {
   "cell_type": "code",
   "execution_count": 2,
   "id": "57e4de1a",
   "metadata": {
    "execution": {
     "iopub.execute_input": "2024-04-07T13:38:57.149037Z",
     "iopub.status.busy": "2024-04-07T13:38:57.148806Z",
     "iopub.status.idle": "2024-04-07T13:39:14.337612Z",
     "shell.execute_reply": "2024-04-07T13:39:14.336629Z"
    },
    "papermill": {
     "duration": 17.196793,
     "end_time": "2024-04-07T13:39:14.339944",
     "exception": false,
     "start_time": "2024-04-07T13:38:57.143151",
     "status": "completed"
    },
    "tags": []
   },
   "outputs": [
    {
     "name": "stdout",
     "output_type": "stream",
     "text": [
      "\u001b[31mERROR: pip's dependency resolver does not currently take into account all the packages that are installed. This behaviour is the source of the following dependency conflicts.\r\n",
      "spopt 0.6.0 requires shapely>=2.0.1, but you have shapely 1.8.5.post1 which is incompatible.\u001b[0m\u001b[31m\r\n",
      "\u001b[0m"
     ]
    }
   ],
   "source": [
    "!pip install -U scikit-learn -q"
   ]
  },
  {
   "cell_type": "code",
   "execution_count": 3,
   "id": "b58a8989",
   "metadata": {
    "_cell_guid": "b1076dfc-b9ad-4769-8c92-a6c4dae69d19",
    "_uuid": "8f2839f25d086af736a60e9eeb907d3b93b6e0e5",
    "execution": {
     "iopub.execute_input": "2024-04-07T13:39:14.352020Z",
     "iopub.status.busy": "2024-04-07T13:39:14.351703Z",
     "iopub.status.idle": "2024-04-07T13:39:19.199215Z",
     "shell.execute_reply": "2024-04-07T13:39:19.198418Z"
    },
    "papermill": {
     "duration": 4.856157,
     "end_time": "2024-04-07T13:39:19.201494",
     "exception": false,
     "start_time": "2024-04-07T13:39:14.345337",
     "status": "completed"
    },
    "tags": []
   },
   "outputs": [],
   "source": [
    "from sklearn.model_selection import train_test_split, cross_val_score, StratifiedKFold\n",
    "from sklearn.metrics import make_scorer, mean_squared_error, root_mean_squared_error\n",
    "from sklearn.ensemble import RandomForestRegressor\n",
    "from sklearn.preprocessing import OneHotEncoder\n",
    "from sklearn.ensemble import VotingRegressor\n",
    "from catboost import CatBoostRegressor\n",
    "from lightgbm import LGBMRegressor\n",
    "from xgboost import XGBRegressor\n",
    "import matplotlib.pyplot as plt\n",
    "from sklearn.base import copy\n",
    "import pandas as pd\n",
    "import numpy as np\n",
    "import random\n",
    "import optuna"
   ]
  },
  {
   "cell_type": "code",
   "execution_count": 4,
   "id": "3ff9a610",
   "metadata": {
    "execution": {
     "iopub.execute_input": "2024-04-07T13:39:19.214449Z",
     "iopub.status.busy": "2024-04-07T13:39:19.214170Z",
     "iopub.status.idle": "2024-04-07T13:39:19.218393Z",
     "shell.execute_reply": "2024-04-07T13:39:19.217532Z"
    },
    "papermill": {
     "duration": 0.01256,
     "end_time": "2024-04-07T13:39:19.220293",
     "exception": false,
     "start_time": "2024-04-07T13:39:19.207733",
     "status": "completed"
    },
    "tags": []
   },
   "outputs": [],
   "source": [
    "RANDOM_SEED = 42\n",
    "FIND_BEST_PARAMS = False\n",
    "\n",
    "\n",
    "np.random.seed(RANDOM_SEED)\n",
    "random.seed(RANDOM_SEED)"
   ]
  },
  {
   "cell_type": "code",
   "execution_count": 5,
   "id": "0b309bf3",
   "metadata": {
    "execution": {
     "iopub.execute_input": "2024-04-07T13:39:19.231479Z",
     "iopub.status.busy": "2024-04-07T13:39:19.231209Z",
     "iopub.status.idle": "2024-04-07T13:39:19.550213Z",
     "shell.execute_reply": "2024-04-07T13:39:19.549398Z"
    },
    "papermill": {
     "duration": 0.327236,
     "end_time": "2024-04-07T13:39:19.552523",
     "exception": false,
     "start_time": "2024-04-07T13:39:19.225287",
     "status": "completed"
    },
    "tags": []
   },
   "outputs": [],
   "source": [
    "train   = pd.read_csv('/kaggle/input/playground-series-s4e4/train.csv')\n",
    "orginal = pd.read_csv('/kaggle/input/abalone-dataset/abalone.csv')\n",
    "test    = pd.read_csv('/kaggle/input/playground-series-s4e4/test.csv')"
   ]
  },
  {
   "cell_type": "code",
   "execution_count": 6,
   "id": "81d27d0f",
   "metadata": {
    "execution": {
     "iopub.execute_input": "2024-04-07T13:39:19.564839Z",
     "iopub.status.busy": "2024-04-07T13:39:19.564547Z",
     "iopub.status.idle": "2024-04-07T13:39:19.604585Z",
     "shell.execute_reply": "2024-04-07T13:39:19.603756Z"
    },
    "papermill": {
     "duration": 0.048434,
     "end_time": "2024-04-07T13:39:19.606576",
     "exception": false,
     "start_time": "2024-04-07T13:39:19.558142",
     "status": "completed"
    },
    "tags": []
   },
   "outputs": [
    {
     "data": {
      "text/html": [
       "<div>\n",
       "<style scoped>\n",
       "    .dataframe tbody tr th:only-of-type {\n",
       "        vertical-align: middle;\n",
       "    }\n",
       "\n",
       "    .dataframe tbody tr th {\n",
       "        vertical-align: top;\n",
       "    }\n",
       "\n",
       "    .dataframe thead th {\n",
       "        text-align: right;\n",
       "    }\n",
       "</style>\n",
       "<table border=\"1\" class=\"dataframe\">\n",
       "  <thead>\n",
       "    <tr style=\"text-align: right;\">\n",
       "      <th></th>\n",
       "      <th>Sex</th>\n",
       "      <th>Length</th>\n",
       "      <th>Diameter</th>\n",
       "      <th>Height</th>\n",
       "      <th>Whole weight</th>\n",
       "      <th>Shucked weight</th>\n",
       "      <th>Viscera weight</th>\n",
       "      <th>Shell weight</th>\n",
       "    </tr>\n",
       "  </thead>\n",
       "  <tbody>\n",
       "    <tr>\n",
       "      <th>0</th>\n",
       "      <td>F</td>\n",
       "      <td>0.550</td>\n",
       "      <td>0.430</td>\n",
       "      <td>0.150</td>\n",
       "      <td>0.7715</td>\n",
       "      <td>0.3285</td>\n",
       "      <td>0.1465</td>\n",
       "      <td>0.2400</td>\n",
       "    </tr>\n",
       "    <tr>\n",
       "      <th>1</th>\n",
       "      <td>F</td>\n",
       "      <td>0.630</td>\n",
       "      <td>0.490</td>\n",
       "      <td>0.145</td>\n",
       "      <td>1.1300</td>\n",
       "      <td>0.4580</td>\n",
       "      <td>0.2765</td>\n",
       "      <td>0.3200</td>\n",
       "    </tr>\n",
       "    <tr>\n",
       "      <th>2</th>\n",
       "      <td>I</td>\n",
       "      <td>0.160</td>\n",
       "      <td>0.110</td>\n",
       "      <td>0.025</td>\n",
       "      <td>0.0210</td>\n",
       "      <td>0.0055</td>\n",
       "      <td>0.0030</td>\n",
       "      <td>0.0050</td>\n",
       "    </tr>\n",
       "    <tr>\n",
       "      <th>3</th>\n",
       "      <td>M</td>\n",
       "      <td>0.595</td>\n",
       "      <td>0.475</td>\n",
       "      <td>0.150</td>\n",
       "      <td>0.9145</td>\n",
       "      <td>0.3755</td>\n",
       "      <td>0.2055</td>\n",
       "      <td>0.2500</td>\n",
       "    </tr>\n",
       "    <tr>\n",
       "      <th>4</th>\n",
       "      <td>I</td>\n",
       "      <td>0.555</td>\n",
       "      <td>0.425</td>\n",
       "      <td>0.130</td>\n",
       "      <td>0.7820</td>\n",
       "      <td>0.3695</td>\n",
       "      <td>0.1600</td>\n",
       "      <td>0.1975</td>\n",
       "    </tr>\n",
       "  </tbody>\n",
       "</table>\n",
       "</div>"
      ],
      "text/plain": [
       "  Sex  Length  Diameter  Height  Whole weight  Shucked weight  Viscera weight  \\\n",
       "0   F   0.550     0.430   0.150        0.7715          0.3285          0.1465   \n",
       "1   F   0.630     0.490   0.145        1.1300          0.4580          0.2765   \n",
       "2   I   0.160     0.110   0.025        0.0210          0.0055          0.0030   \n",
       "3   M   0.595     0.475   0.150        0.9145          0.3755          0.2055   \n",
       "4   I   0.555     0.425   0.130        0.7820          0.3695          0.1600   \n",
       "\n",
       "   Shell weight  \n",
       "0        0.2400  \n",
       "1        0.3200  \n",
       "2        0.0050  \n",
       "3        0.2500  \n",
       "4        0.1975  "
      ]
     },
     "execution_count": 6,
     "metadata": {},
     "output_type": "execute_result"
    }
   ],
   "source": [
    "train = train.drop(['id'], axis = 1)\n",
    "train.columns = orginal.columns\n",
    "train = pd.concat([train, orginal], axis = 0, ignore_index=True)\n",
    "\n",
    "y = train['Rings']\n",
    "y_log = np.log(1+y)\n",
    "\n",
    "train = train.drop(['Rings'], axis = 1)\n",
    "train.head()"
   ]
  },
  {
   "cell_type": "code",
   "execution_count": 7,
   "id": "b7dc7d5f",
   "metadata": {
    "execution": {
     "iopub.execute_input": "2024-04-07T13:39:19.618570Z",
     "iopub.status.busy": "2024-04-07T13:39:19.618277Z",
     "iopub.status.idle": "2024-04-07T13:39:19.634156Z",
     "shell.execute_reply": "2024-04-07T13:39:19.633319Z"
    },
    "papermill": {
     "duration": 0.023995,
     "end_time": "2024-04-07T13:39:19.636064",
     "exception": false,
     "start_time": "2024-04-07T13:39:19.612069",
     "status": "completed"
    },
    "tags": []
   },
   "outputs": [
    {
     "data": {
      "text/html": [
       "<div>\n",
       "<style scoped>\n",
       "    .dataframe tbody tr th:only-of-type {\n",
       "        vertical-align: middle;\n",
       "    }\n",
       "\n",
       "    .dataframe tbody tr th {\n",
       "        vertical-align: top;\n",
       "    }\n",
       "\n",
       "    .dataframe thead th {\n",
       "        text-align: right;\n",
       "    }\n",
       "</style>\n",
       "<table border=\"1\" class=\"dataframe\">\n",
       "  <thead>\n",
       "    <tr style=\"text-align: right;\">\n",
       "      <th></th>\n",
       "      <th>Sex</th>\n",
       "      <th>Length</th>\n",
       "      <th>Diameter</th>\n",
       "      <th>Height</th>\n",
       "      <th>Whole weight</th>\n",
       "      <th>Shucked weight</th>\n",
       "      <th>Viscera weight</th>\n",
       "      <th>Shell weight</th>\n",
       "    </tr>\n",
       "  </thead>\n",
       "  <tbody>\n",
       "    <tr>\n",
       "      <th>0</th>\n",
       "      <td>M</td>\n",
       "      <td>0.645</td>\n",
       "      <td>0.475</td>\n",
       "      <td>0.155</td>\n",
       "      <td>1.2380</td>\n",
       "      <td>0.6185</td>\n",
       "      <td>0.3125</td>\n",
       "      <td>0.3005</td>\n",
       "    </tr>\n",
       "    <tr>\n",
       "      <th>1</th>\n",
       "      <td>M</td>\n",
       "      <td>0.580</td>\n",
       "      <td>0.460</td>\n",
       "      <td>0.160</td>\n",
       "      <td>0.9830</td>\n",
       "      <td>0.4785</td>\n",
       "      <td>0.2195</td>\n",
       "      <td>0.2750</td>\n",
       "    </tr>\n",
       "    <tr>\n",
       "      <th>2</th>\n",
       "      <td>M</td>\n",
       "      <td>0.560</td>\n",
       "      <td>0.420</td>\n",
       "      <td>0.140</td>\n",
       "      <td>0.8395</td>\n",
       "      <td>0.3525</td>\n",
       "      <td>0.1845</td>\n",
       "      <td>0.2405</td>\n",
       "    </tr>\n",
       "    <tr>\n",
       "      <th>3</th>\n",
       "      <td>M</td>\n",
       "      <td>0.570</td>\n",
       "      <td>0.490</td>\n",
       "      <td>0.145</td>\n",
       "      <td>0.8740</td>\n",
       "      <td>0.3525</td>\n",
       "      <td>0.1865</td>\n",
       "      <td>0.2350</td>\n",
       "    </tr>\n",
       "    <tr>\n",
       "      <th>4</th>\n",
       "      <td>I</td>\n",
       "      <td>0.415</td>\n",
       "      <td>0.325</td>\n",
       "      <td>0.110</td>\n",
       "      <td>0.3580</td>\n",
       "      <td>0.1575</td>\n",
       "      <td>0.0670</td>\n",
       "      <td>0.1050</td>\n",
       "    </tr>\n",
       "  </tbody>\n",
       "</table>\n",
       "</div>"
      ],
      "text/plain": [
       "  Sex  Length  Diameter  Height  Whole weight  Shucked weight  Viscera weight  \\\n",
       "0   M   0.645     0.475   0.155        1.2380          0.6185          0.3125   \n",
       "1   M   0.580     0.460   0.160        0.9830          0.4785          0.2195   \n",
       "2   M   0.560     0.420   0.140        0.8395          0.3525          0.1845   \n",
       "3   M   0.570     0.490   0.145        0.8740          0.3525          0.1865   \n",
       "4   I   0.415     0.325   0.110        0.3580          0.1575          0.0670   \n",
       "\n",
       "   Shell weight  \n",
       "0        0.3005  \n",
       "1        0.2750  \n",
       "2        0.2405  \n",
       "3        0.2350  \n",
       "4        0.1050  "
      ]
     },
     "execution_count": 7,
     "metadata": {},
     "output_type": "execute_result"
    }
   ],
   "source": [
    "test_id = test['id']\n",
    "test = test.drop('id', axis = 1)\n",
    "test.columns = train.columns\n",
    "test.head()"
   ]
  },
  {
   "cell_type": "code",
   "execution_count": 8,
   "id": "5012f310",
   "metadata": {
    "execution": {
     "iopub.execute_input": "2024-04-07T13:39:19.648115Z",
     "iopub.status.busy": "2024-04-07T13:39:19.647829Z",
     "iopub.status.idle": "2024-04-07T13:39:19.711760Z",
     "shell.execute_reply": "2024-04-07T13:39:19.710867Z"
    },
    "papermill": {
     "duration": 0.072338,
     "end_time": "2024-04-07T13:39:19.713940",
     "exception": false,
     "start_time": "2024-04-07T13:39:19.641602",
     "status": "completed"
    },
    "tags": []
   },
   "outputs": [],
   "source": [
    "encoder = OneHotEncoder(sparse_output = False, handle_unknown = 'ignore')\n",
    "\n",
    "train = pd.concat([\n",
    "                    train.iloc[:,1:], \n",
    "                    pd.DataFrame(encoder.fit_transform(train[['Sex']]).astype('int'), \n",
    "                                 columns = encoder.categories_[0])\n",
    "                    ], \n",
    "                    axis = 1\n",
    "                )\n",
    "\n",
    "test  = pd.concat([\n",
    "                    test.iloc[:,1:], \n",
    "                    pd.DataFrame(encoder.transform(test[['Sex']]).astype('int'), \n",
    "                                 columns = encoder.categories_[0])\n",
    "                    ], \n",
    "                    axis = 1\n",
    "                )"
   ]
  },
  {
   "cell_type": "code",
   "execution_count": 9,
   "id": "8df62973",
   "metadata": {
    "execution": {
     "iopub.execute_input": "2024-04-07T13:39:19.726873Z",
     "iopub.status.busy": "2024-04-07T13:39:19.726123Z",
     "iopub.status.idle": "2024-04-07T13:39:19.737308Z",
     "shell.execute_reply": "2024-04-07T13:39:19.736580Z"
    },
    "papermill": {
     "duration": 0.019617,
     "end_time": "2024-04-07T13:39:19.739332",
     "exception": false,
     "start_time": "2024-04-07T13:39:19.719715",
     "status": "completed"
    },
    "tags": []
   },
   "outputs": [
    {
     "name": "stderr",
     "output_type": "stream",
     "text": [
      "[I 2024-04-07 13:39:19,731] A new study created in memory with name: optuna_catboost\n"
     ]
    },
    {
     "name": "stdout",
     "output_type": "stream",
     "text": [
      "CPU times: user 1.37 ms, sys: 0 ns, total: 1.37 ms\n",
      "Wall time: 1.11 ms\n"
     ]
    }
   ],
   "source": [
    "%%time\n",
    "\n",
    "\n",
    "def objective(trial):\n",
    "\n",
    "    params = {\n",
    "        \"verbose\": False,\n",
    "        \"iterations\": 1000,\n",
    "        \"loss_function\":'RMSE',\n",
    "        \"random_state\": RANDOM_SEED,\n",
    "        \"depth\": trial.suggest_int(\"depth\", 3, 15),\n",
    "        \"subsample\": trial.suggest_float(\"subsample\", 0.01, 1.0),\n",
    "        \"min_data_in_leaf\": trial.suggest_int(\"min_data_in_leaf\", 1, 100),\n",
    "        \"colsample_bylevel\": trial.suggest_float(\"colsample_bylevel\", 0.01, 1.0),\n",
    "        \"learning_rate\": trial.suggest_float(\"learning_rate\", 1e-3, 0.1, log=True),\n",
    "    }\n",
    "\n",
    "    cv = StratifiedKFold(n_splits=5, shuffle=True, random_state=RANDOM_SEED)\n",
    "    scores = []\n",
    "    for _, (train_index, valid_index) in enumerate(cv.split(train, y)):\n",
    "        X_train, y_train = train.iloc[train_index], y_log.iloc[train_index]\n",
    "        X_valid, y_valid = train.iloc[valid_index], y_log.iloc[valid_index]\n",
    "        model = CatBoostRegressor(**params)\n",
    "\n",
    "        model.fit(X_train, y_train, \n",
    "                  eval_set=(X_valid, y_valid),\n",
    "                  early_stopping_rounds=100)\n",
    "        \n",
    "        y_pred = model.predict(X_valid)\n",
    "        scores.append(root_mean_squared_error(y_valid, y_pred))\n",
    "    return np.mean(scores)\n",
    "\n",
    "\n",
    "study = optuna.create_study(direction='minimize', study_name=\"optuna_catboost\")\n",
    "if FIND_BEST_PARAMS:\n",
    "    study.optimize(objective, n_trials=50)\n",
    "    print(f\"Best trial average RMSE: {study.best_value:.4f}\")\n",
    "    for key, value in study.best_params.items():\n",
    "        print(f\"{key}: {value}\")"
   ]
  },
  {
   "cell_type": "code",
   "execution_count": 10,
   "id": "c1db679d",
   "metadata": {
    "execution": {
     "iopub.execute_input": "2024-04-07T13:39:19.751480Z",
     "iopub.status.busy": "2024-04-07T13:39:19.751227Z",
     "iopub.status.idle": "2024-04-07T13:39:19.762724Z",
     "shell.execute_reply": "2024-04-07T13:39:19.761791Z"
    },
    "papermill": {
     "duration": 0.019703,
     "end_time": "2024-04-07T13:39:19.764601",
     "exception": false,
     "start_time": "2024-04-07T13:39:19.744898",
     "status": "completed"
    },
    "tags": []
   },
   "outputs": [
    {
     "name": "stderr",
     "output_type": "stream",
     "text": [
      "[I 2024-04-07 13:39:19,756] A new study created in memory with name: optuna_lgbm\n"
     ]
    },
    {
     "name": "stdout",
     "output_type": "stream",
     "text": [
      "CPU times: user 1.07 ms, sys: 14 µs, total: 1.08 ms\n",
      "Wall time: 965 µs\n"
     ]
    }
   ],
   "source": [
    "%%time\n",
    "\n",
    "\n",
    "def objective(trial):\n",
    "\n",
    "    params = {\n",
    "        'n_jobs':-1,\n",
    "        \"metric\":'rmse',  \n",
    "        \"verbosity\": -1,\n",
    "        \"bagging_freq\": 1,\n",
    "        \"boosting_type\": \"gbdt\",    \n",
    "        \"objective\":'regression', \n",
    "        'random_state':RANDOM_SEED,\n",
    "        'max_depth': trial.suggest_int('max_depth', 3, 15),                        \n",
    "        \"subsample\": trial.suggest_float(\"subsample\", 0.05, 1.0),\n",
    "        \"n_estimators\": trial.suggest_int('n_estimators', 400, 1000),\n",
    "        \"min_data_in_leaf\": trial.suggest_int(\"min_data_in_leaf\", 1, 100),               \n",
    "        \"learning_rate\": trial.suggest_float(\"learning_rate\", 0.005, 0.01),\n",
    "        'min_child_samples': trial.suggest_int('min_child_samples', 10, 60),\n",
    "        'lambda_l1': trial.suggest_float('lambda_l1', 1e-8, 10.0, log=True),\n",
    "        'lambda_l2': trial.suggest_float('lambda_l2', 1e-8, 10.0, log=True),\n",
    "        \"colsample_bytree\": trial.suggest_float(\"colsample_bytree\", 0.3, 1.0),\n",
    "    }\n",
    "\n",
    "    cv = StratifiedKFold(n_splits=5, shuffle=True, random_state=RANDOM_SEED)\n",
    "    scores = []\n",
    "    for _, (train_index, valid_index) in enumerate(cv.split(train, y)):\n",
    "        X_train, y_train = train.iloc[train_index], y_log.iloc[train_index]\n",
    "        X_valid, y_valid = train.iloc[valid_index], y_log.iloc[valid_index]\n",
    "        model = LGBMRegressor(**params)\n",
    "        model.fit(X_train, y_train)\n",
    "        y_pred = model.predict(X_valid)     \n",
    "        scores.append(root_mean_squared_error(y_valid, y_pred))\n",
    "    return np.mean(scores)\n",
    "\n",
    "\n",
    "study = optuna.create_study(direction='minimize', study_name=\"optuna_lgbm\")\n",
    "if FIND_BEST_PARAMS:\n",
    "    study.optimize(objective, n_trials=50)\n",
    "    print(f\"Best trial average RMSE: {study.best_value:.4f}\")\n",
    "    for key, value in study.best_params.items():\n",
    "        print(f\"{key}: {value}\")"
   ]
  },
  {
   "cell_type": "code",
   "execution_count": 11,
   "id": "7a761427",
   "metadata": {
    "execution": {
     "iopub.execute_input": "2024-04-07T13:39:19.778256Z",
     "iopub.status.busy": "2024-04-07T13:39:19.778004Z",
     "iopub.status.idle": "2024-04-07T13:39:19.788430Z",
     "shell.execute_reply": "2024-04-07T13:39:19.787625Z"
    },
    "papermill": {
     "duration": 0.020009,
     "end_time": "2024-04-07T13:39:19.790447",
     "exception": false,
     "start_time": "2024-04-07T13:39:19.770438",
     "status": "completed"
    },
    "tags": []
   },
   "outputs": [
    {
     "name": "stderr",
     "output_type": "stream",
     "text": [
      "[I 2024-04-07 13:39:19,782] A new study created in memory with name: optuna_xgboost\n"
     ]
    },
    {
     "name": "stdout",
     "output_type": "stream",
     "text": [
      "CPU times: user 1.21 ms, sys: 0 ns, total: 1.21 ms\n",
      "Wall time: 1.08 ms\n"
     ]
    }
   ],
   "source": [
    "\n",
    "\n",
    "def objective(trial):\n",
    "\n",
    "    params = {\n",
    "        'eval_metric': 'rmse',\n",
    "        'random_state': RANDOM_SEED,\n",
    "        'objective': 'reg:squarederror',\n",
    "        'gamma': trial.suggest_float(\"gamma\", 1e-2, 1.0),\n",
    "        'max_depth': trial.suggest_int('max_depth',2, 20),\n",
    "        'subsample': trial.suggest_float(\"subsample\", 0.05, 1.0),\n",
    "        'n_estimators': trial.suggest_int('n_estimators',100, 1000),\n",
    "        'min_child_weight': trial.suggest_int('min_child_weight',2, 20),\n",
    "        'colsample_bytree': trial.suggest_float(\"colsample_bytree\", 0.05, 1.0),\n",
    "        'learning_rate': trial.suggest_float(\"learning_rate\", 1e-3, 0.1, log=True),\n",
    "    }\n",
    "\n",
    "    cv = StratifiedKFold(n_splits=5, shuffle=True, random_state=RANDOM_SEED)\n",
    "    scores = []\n",
    "    for _, (train_index, valid_index) in enumerate(cv.split(train, y)):\n",
    "        X_train, y_train = train.iloc[train_index], y_log.iloc[train_index]\n",
    "        X_valid, y_valid = train.iloc[valid_index], y_log.iloc[valid_index]\n",
    "        model = XGBRegressor(**params)\n",
    "        model.fit(X_train, y_train)\n",
    "        y_pred = model.predict(X_valid)     \n",
    "        scores.append(root_mean_squared_error(y_valid, y_pred))\n",
    "    return np.mean(scores)\n",
    "\n",
    "\n",
    "study = optuna.create_study(direction='minimize', study_name=\"optuna_xgboost\")\n",
    "if FIND_BEST_PARAMS:\n",
    "    study.optimize(objective, n_trials=50)\n",
    "    print(f\"Best trial average RMSE: {study.best_value:.4f}\")\n",
    "    for key, value in study.best_params.items():\n",
    "        print(f\"{key}: {value}\")"
   ]
  },
  {
   "cell_type": "code",
   "execution_count": 12,
   "id": "af575083",
   "metadata": {
    "execution": {
     "iopub.execute_input": "2024-04-07T13:39:19.803348Z",
     "iopub.status.busy": "2024-04-07T13:39:19.803104Z",
     "iopub.status.idle": "2024-04-07T13:39:19.810538Z",
     "shell.execute_reply": "2024-04-07T13:39:19.809799Z"
    },
    "papermill": {
     "duration": 0.015983,
     "end_time": "2024-04-07T13:39:19.812289",
     "exception": false,
     "start_time": "2024-04-07T13:39:19.796306",
     "status": "completed"
    },
    "tags": []
   },
   "outputs": [],
   "source": [
    "xgboost_params = {\n",
    "    'verbosity': 0,\n",
    "    'max_depth': 10, \n",
    "    'device': 'cuda', \n",
    "    'booster': 'dart', \n",
    "    'eval_metric': 'rmsle', \n",
    "    'random_state':RANDOM_SEED,\n",
    "    'lambda': 0.456836886068415, \n",
    "    'alpha': 0.6422509164613671, \n",
    "    'subsample': 0.8365423486036913, \n",
    "    'objective': 'reg:squaredlogerror', \n",
    "    'learning_rate': 0.09884907639400813, \n",
    "    'colsample_bytree': 0.8111849113860014, \n",
    "}\n",
    "\n",
    "catboost_params = {\n",
    "    'depth': 15, \n",
    "    'max_bin': 464, \n",
    "    'verbose': False,\n",
    "    'task_type': 'GPU', \n",
    "    'eval_metric': 'RMSE', \n",
    "    'min_data_in_leaf': 78, \n",
    "    'loss_function': 'RMSE', \n",
    "    'grow_policy': 'Lossguide', \n",
    "    'random_state':RANDOM_SEED,\n",
    "    'bootstrap_type': 'Bernoulli', \n",
    "    'subsample': 0.83862137638162, \n",
    "    'l2_leaf_reg': 8.365422739510098, \n",
    "    'random_strength': 3.296124856352495, \n",
    "    'learning_rate': 0.09992185242598203, \n",
    "}\n",
    "\n",
    "lgbm_params = {\n",
    "    'verbosity': -1,\n",
    "    'device': 'gpu', \n",
    "    'metric': 'rmse', \n",
    "    'num_leaves': 176, \n",
    "    'bagging_freq': 7, \n",
    "    'boosting_type': 'gbdt', \n",
    "    'min_child_samples': 91, \n",
    "    'objective': 'regression', \n",
    "    'random_state':RANDOM_SEED,\n",
    "    'learning_rate': 0.07351805347801958, \n",
    "    'bagging_fraction': 0.6502062728410578, \n",
    "    'feature_fraction': 0.7058843944694884, \n",
    "}"
   ]
  },
  {
   "cell_type": "code",
   "execution_count": 13,
   "id": "e46b5daf",
   "metadata": {
    "execution": {
     "iopub.execute_input": "2024-04-07T13:39:19.825178Z",
     "iopub.status.busy": "2024-04-07T13:39:19.824918Z",
     "iopub.status.idle": "2024-04-07T13:39:19.831646Z",
     "shell.execute_reply": "2024-04-07T13:39:19.830875Z"
    },
    "papermill": {
     "duration": 0.01525,
     "end_time": "2024-04-07T13:39:19.833480",
     "exception": false,
     "start_time": "2024-04-07T13:39:19.818230",
     "status": "completed"
    },
    "tags": []
   },
   "outputs": [],
   "source": [
    "cv_estimators = [\n",
    "    ('lgbm', LGBMRegressor(**lgbm_params)),\n",
    "    ('xgboost', XGBRegressor(**xgboost_params)),\n",
    "    ('catboost', CatBoostRegressor(**catboost_params))\n",
    "]"
   ]
  },
  {
   "cell_type": "code",
   "execution_count": 14,
   "id": "3b71dfec",
   "metadata": {
    "execution": {
     "iopub.execute_input": "2024-04-07T13:39:19.846459Z",
     "iopub.status.busy": "2024-04-07T13:39:19.845947Z",
     "iopub.status.idle": "2024-04-07T13:39:19.855500Z",
     "shell.execute_reply": "2024-04-07T13:39:19.854593Z"
    },
    "papermill": {
     "duration": 0.018005,
     "end_time": "2024-04-07T13:39:19.857401",
     "exception": false,
     "start_time": "2024-04-07T13:39:19.839396",
     "status": "completed"
    },
    "tags": []
   },
   "outputs": [
    {
     "name": "stderr",
     "output_type": "stream",
     "text": [
      "[I 2024-04-07 13:39:19,850] A new study created in memory with name: voting_regressor_optuna\n"
     ]
    },
    {
     "name": "stdout",
     "output_type": "stream",
     "text": [
      "CPU times: user 943 µs, sys: 0 ns, total: 943 µs\n",
      "Wall time: 813 µs\n"
     ]
    }
   ],
   "source": [
    "%%time\n",
    "\n",
    "\n",
    "def objective(trial):\n",
    "    \n",
    "    params = {\n",
    "        'lgbm_weight': trial.suggest_float('lgbm_weight', 0.0, 5.0),\n",
    "        'xgboost_weight': trial.suggest_float('xgboost_weight', 0.0, 5.0),\n",
    "        'catboost_weight': trial.suggest_float('catboost_weight', 0.0, 5.0),\n",
    "    }\n",
    "\n",
    "\n",
    "    cv = StratifiedKFold(n_splits=5, shuffle=True, random_state=RANDOM_SEED)\n",
    "    scores = []\n",
    "    for _, (train_index, valid_index) in enumerate(cv.split(train, y)):\n",
    "        X_train, y_train = train.iloc[train_index], y_log.iloc[train_index]\n",
    "        X_valid, y_valid = train.iloc[valid_index], y_log.iloc[valid_index]\n",
    "        voting_regressor = VotingRegressor(\n",
    "            estimators=cv_estimators,\n",
    "            weights=[params['lgbm_weight'], params['xgboost_weight'], params['catboost_weight']]\n",
    "        )\n",
    "        voting_regressor.fit(X_train, y_train)\n",
    "        y_pred = voting_regressor.predict(X_valid)  \n",
    "        scores.append(root_mean_squared_error(y_valid, y_pred))\n",
    "    return np.mean(scores)\n",
    "\n",
    "\n",
    "study = optuna.create_study(direction='minimize', study_name=\"voting_regressor_optuna\")\n",
    "if FIND_BEST_PARAMS:\n",
    "    study.optimize(objective, n_trials=100)\n",
    "    print(f\"Best trial average RMSE: {study.best_value:.4f}\")\n",
    "    for key, value in study.best_params.items():\n",
    "        print(f\"{key}: {value}\")\n"
   ]
  },
  {
   "cell_type": "code",
   "execution_count": 15,
   "id": "9f737096",
   "metadata": {
    "execution": {
     "iopub.execute_input": "2024-04-07T13:39:19.870959Z",
     "iopub.status.busy": "2024-04-07T13:39:19.870331Z",
     "iopub.status.idle": "2024-04-07T13:40:52.572879Z",
     "shell.execute_reply": "2024-04-07T13:40:52.571697Z"
    },
    "papermill": {
     "duration": 92.711574,
     "end_time": "2024-04-07T13:40:52.574978",
     "exception": false,
     "start_time": "2024-04-07T13:39:19.863404",
     "status": "completed"
    },
    "tags": []
   },
   "outputs": [
    {
     "name": "stderr",
     "output_type": "stream",
     "text": [
      "1 warning generated.\n",
      "1 warning generated.\n",
      "1 warning generated.\n",
      "1 warning generated.\n",
      "1 warning generated.\n",
      "1 warning generated.\n",
      "1 warning generated.\n",
      "1 warning generated.\n",
      "1 warning generated.\n",
      "1 warning generated.\n",
      "1 warning generated.\n",
      "1 warning generated.\n",
      "1 warning generated.\n",
      "1 warning generated.\n",
      "1 warning generated.\n",
      "1 warning generated.\n",
      "1 warning generated.\n",
      "1 warning generated.\n",
      "1 warning generated.\n",
      "1 warning generated.\n",
      "1 warning generated.\n",
      "1 warning generated.\n",
      "1 warning generated.\n",
      "1 warning generated.\n",
      "1 warning generated.\n",
      "1 warning generated.\n",
      "1 warning generated.\n",
      "1 warning generated.\n",
      "1 warning generated.\n",
      "1 warning generated.\n",
      "1 warning generated.\n",
      "1 warning generated.\n",
      "1 warning generated.\n"
     ]
    },
    {
     "name": "stdout",
     "output_type": "stream",
     "text": [
      "FOLD 0 Done. RMSE : 0.14865781035564574\n",
      "FOLD 1 Done. RMSE : 0.14724672256202875\n",
      "FOLD 2 Done. RMSE : 0.14838241995366852\n",
      "FOLD 3 Done. RMSE : 0.14947514500541953\n",
      "FOLD 4 Done. RMSE : 0.14826518169395217\n",
      "All FOLD. Mean RMSE : 0.14840545591414295\n",
      "CPU times: user 2min 19s, sys: 16.3 s, total: 2min 35s\n",
      "Wall time: 1min 32s\n"
     ]
    }
   ],
   "source": [
    "%%time\n",
    "\n",
    "weight_best_params = {\n",
    "    'lgbm_weight': 2.704098705074571, \n",
    "    'xgboost_weight': 0.7975293054707728, \n",
    "    'catboost_weight': 4.383257916855633,\n",
    "}\n",
    "\n",
    "\n",
    "voting_regressor = VotingRegressor(\n",
    "    estimators=cv_estimators,\n",
    "    weights=[ weight_best_params['lgbm_weight'], \n",
    "              weight_best_params['xgboost_weight'], \n",
    "              weight_best_params['catboost_weight']\n",
    "    ]\n",
    ")\n",
    "\n",
    "cv = StratifiedKFold(n_splits=5, shuffle=True, random_state=RANDOM_SEED)\n",
    "scores = []\n",
    "y_pred_test = []\n",
    "for fold_i, (train_index, valid_index) in enumerate(cv.split(train, y)):\n",
    "    X_train, y_train = train.iloc[train_index], y_log.iloc[train_index]\n",
    "    X_valid, y_valid = train.iloc[valid_index], y_log.iloc[valid_index]\n",
    "    voting_regressor.fit(X_train, y_train)\n",
    "    y_pred = voting_regressor.predict(X_valid)  \n",
    "    score = root_mean_squared_error(y_valid, y_pred)\n",
    "    scores.append(score)\n",
    "    y_pred_test.append(voting_regressor.predict(test))\n",
    "    print(f\"FOLD {fold_i} Done. RMSE : {score}\")\n",
    "print(f\"All FOLD. Mean RMSE : {np.mean(scores)}\")"
   ]
  },
  {
   "cell_type": "code",
   "execution_count": 16,
   "id": "2bc03fc9",
   "metadata": {
    "execution": {
     "iopub.execute_input": "2024-04-07T13:40:52.592271Z",
     "iopub.status.busy": "2024-04-07T13:40:52.591956Z",
     "iopub.status.idle": "2024-04-07T13:40:52.774005Z",
     "shell.execute_reply": "2024-04-07T13:40:52.772983Z"
    },
    "papermill": {
     "duration": 0.193275,
     "end_time": "2024-04-07T13:40:52.776442",
     "exception": false,
     "start_time": "2024-04-07T13:40:52.583167",
     "status": "completed"
    },
    "tags": []
   },
   "outputs": [],
   "source": [
    "predictions = np.mean(y_pred_test, axis=0)\n",
    "sub  = pd.DataFrame(columns = ['id', 'Rings'])\n",
    "sub['id'] = test_id\n",
    "sub['Rings'] = np.exp(predictions)-1\n",
    "sub.to_csv('submission.csv', index = False)"
   ]
  }
 ],
 "metadata": {
  "kaggle": {
   "accelerator": "gpu",
   "dataSources": [
    {
     "databundleVersionId": 8096274,
     "sourceId": 72489,
     "sourceType": "competition"
    },
    {
     "datasetId": 37691,
     "sourceId": 57419,
     "sourceType": "datasetVersion"
    }
   ],
   "dockerImageVersionId": 30674,
   "isGpuEnabled": true,
   "isInternetEnabled": true,
   "language": "python",
   "sourceType": "notebook"
  },
  "kernelspec": {
   "display_name": "Python 3",
   "language": "python",
   "name": "python3"
  },
  "language_info": {
   "codemirror_mode": {
    "name": "ipython",
    "version": 3
   },
   "file_extension": ".py",
   "mimetype": "text/x-python",
   "name": "python",
   "nbconvert_exporter": "python",
   "pygments_lexer": "ipython3",
   "version": "3.10.13"
  },
  "papermill": {
   "default_parameters": {},
   "duration": 119.163616,
   "end_time": "2024-04-07T13:40:53.504991",
   "environment_variables": {},
   "exception": null,
   "input_path": "__notebook__.ipynb",
   "output_path": "__notebook__.ipynb",
   "parameters": {},
   "start_time": "2024-04-07T13:38:54.341375",
   "version": "2.5.0"
  }
 },
 "nbformat": 4,
 "nbformat_minor": 5
}
